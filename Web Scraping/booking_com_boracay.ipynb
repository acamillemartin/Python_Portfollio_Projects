{
 "cells": [
  {
   "cell_type": "code",
   "execution_count": 42,
   "metadata": {},
   "outputs": [],
   "source": [
    "import pandas as pd\n",
    "from bs4 import BeautifulSoup\n",
    "import requests\n",
    "import re"
   ]
  },
  {
   "cell_type": "code",
   "execution_count": 43,
   "metadata": {},
   "outputs": [],
   "source": [
    "# Initializing the list of store data\n",
    "hotel = []\n",
    "address = []\n",
    "review_score = []\n",
    "reviews = []\n",
    "price = []"
   ]
  },
  {
   "cell_type": "code",
   "execution_count": 44,
   "metadata": {},
   "outputs": [],
   "source": [
    "base_url = \"https://www.booking.com/searchresults.html?label=gen173nr-1FCAEoggI46AdIM1gEaLQBiAEBmAExuAEXyAEM2AEB6AEB-AECiAIBqAIDuAKp-JWtBsACAdICJDUzZjQ4MjMxLTA5Y2UtNDYzOS04NTA4LWMyMzc5NDExNWM3MNgCBeACAQ&aid=304142&ss=Boracay+Island%2C+Philippines%2C+Asia&ssne=Manila&ssne_untouched=Manila&lang=en-us&src=searchresults&dest_id=5634&dest_type=region&ac_position=0&ac_click_type=b&ac_langcode=en&ac_suggestion_list_length=5&search_selected=true&search_pageview_id=a66d845a2420035e&ac_meta=GhBhNjZkODQ1YTI0MjAwMzVlIAAoATICZW46AkJvQABKAFAA&checkin=2024-04-04&checkout=2024-04-06&group_adults=2&no_rooms=1&group_children=0&nflt=price%3DPHP-min-4900-1&offset=\"\n",
    "count = 0"
   ]
  },
  {
   "cell_type": "code",
   "execution_count": 45,
   "metadata": {},
   "outputs": [
    {
     "name": "stdout",
     "output_type": "stream",
     "text": [
      "Scraping data for Page 1: https://www.booking.com/searchresults.html?label=gen173nr-1FCAEoggI46AdIM1gEaLQBiAEBmAExuAEXyAEM2AEB6AEB-AECiAIBqAIDuAKp-JWtBsACAdICJDUzZjQ4MjMxLTA5Y2UtNDYzOS04NTA4LWMyMzc5NDExNWM3MNgCBeACAQ&aid=304142&ss=Boracay+Island%2C+Philippines%2C+Asia&ssne=Manila&ssne_untouched=Manila&lang=en-us&src=searchresults&dest_id=5634&dest_type=region&ac_position=0&ac_click_type=b&ac_langcode=en&ac_suggestion_list_length=5&search_selected=true&search_pageview_id=a66d845a2420035e&ac_meta=GhBhNjZkODQ1YTI0MjAwMzVlIAAoATICZW46AkJvQABKAFAA&checkin=2024-04-04&checkout=2024-04-06&group_adults=2&no_rooms=1&group_children=0&nflt=price%3DPHP-min-4900-1&offset=0\n",
      "Scraping data for Page 2: https://www.booking.com/searchresults.html?label=gen173nr-1FCAEoggI46AdIM1gEaLQBiAEBmAExuAEXyAEM2AEB6AEB-AECiAIBqAIDuAKp-JWtBsACAdICJDUzZjQ4MjMxLTA5Y2UtNDYzOS04NTA4LWMyMzc5NDExNWM3MNgCBeACAQ&aid=304142&ss=Boracay+Island%2C+Philippines%2C+Asia&ssne=Manila&ssne_untouched=Manila&lang=en-us&src=searchresults&dest_id=5634&dest_type=region&ac_position=0&ac_click_type=b&ac_langcode=en&ac_suggestion_list_length=5&search_selected=true&search_pageview_id=a66d845a2420035e&ac_meta=GhBhNjZkODQ1YTI0MjAwMzVlIAAoATICZW46AkJvQABKAFAA&checkin=2024-04-04&checkout=2024-04-06&group_adults=2&no_rooms=1&group_children=0&nflt=price%3DPHP-min-4900-1&offset=25\n",
      "Scraping data for Page 3: https://www.booking.com/searchresults.html?label=gen173nr-1FCAEoggI46AdIM1gEaLQBiAEBmAExuAEXyAEM2AEB6AEB-AECiAIBqAIDuAKp-JWtBsACAdICJDUzZjQ4MjMxLTA5Y2UtNDYzOS04NTA4LWMyMzc5NDExNWM3MNgCBeACAQ&aid=304142&ss=Boracay+Island%2C+Philippines%2C+Asia&ssne=Manila&ssne_untouched=Manila&lang=en-us&src=searchresults&dest_id=5634&dest_type=region&ac_position=0&ac_click_type=b&ac_langcode=en&ac_suggestion_list_length=5&search_selected=true&search_pageview_id=a66d845a2420035e&ac_meta=GhBhNjZkODQ1YTI0MjAwMzVlIAAoATICZW46AkJvQABKAFAA&checkin=2024-04-04&checkout=2024-04-06&group_adults=2&no_rooms=1&group_children=0&nflt=price%3DPHP-min-4900-1&offset=50\n",
      "Scraping data for Page 4: https://www.booking.com/searchresults.html?label=gen173nr-1FCAEoggI46AdIM1gEaLQBiAEBmAExuAEXyAEM2AEB6AEB-AECiAIBqAIDuAKp-JWtBsACAdICJDUzZjQ4MjMxLTA5Y2UtNDYzOS04NTA4LWMyMzc5NDExNWM3MNgCBeACAQ&aid=304142&ss=Boracay+Island%2C+Philippines%2C+Asia&ssne=Manila&ssne_untouched=Manila&lang=en-us&src=searchresults&dest_id=5634&dest_type=region&ac_position=0&ac_click_type=b&ac_langcode=en&ac_suggestion_list_length=5&search_selected=true&search_pageview_id=a66d845a2420035e&ac_meta=GhBhNjZkODQ1YTI0MjAwMzVlIAAoATICZW46AkJvQABKAFAA&checkin=2024-04-04&checkout=2024-04-06&group_adults=2&no_rooms=1&group_children=0&nflt=price%3DPHP-min-4900-1&offset=75\n",
      "Scraping data for Page 5: https://www.booking.com/searchresults.html?label=gen173nr-1FCAEoggI46AdIM1gEaLQBiAEBmAExuAEXyAEM2AEB6AEB-AECiAIBqAIDuAKp-JWtBsACAdICJDUzZjQ4MjMxLTA5Y2UtNDYzOS04NTA4LWMyMzc5NDExNWM3MNgCBeACAQ&aid=304142&ss=Boracay+Island%2C+Philippines%2C+Asia&ssne=Manila&ssne_untouched=Manila&lang=en-us&src=searchresults&dest_id=5634&dest_type=region&ac_position=0&ac_click_type=b&ac_langcode=en&ac_suggestion_list_length=5&search_selected=true&search_pageview_id=a66d845a2420035e&ac_meta=GhBhNjZkODQ1YTI0MjAwMzVlIAAoATICZW46AkJvQABKAFAA&checkin=2024-04-04&checkout=2024-04-06&group_adults=2&no_rooms=1&group_children=0&nflt=price%3DPHP-min-4900-1&offset=100\n",
      "Scraping data for Page 6: https://www.booking.com/searchresults.html?label=gen173nr-1FCAEoggI46AdIM1gEaLQBiAEBmAExuAEXyAEM2AEB6AEB-AECiAIBqAIDuAKp-JWtBsACAdICJDUzZjQ4MjMxLTA5Y2UtNDYzOS04NTA4LWMyMzc5NDExNWM3MNgCBeACAQ&aid=304142&ss=Boracay+Island%2C+Philippines%2C+Asia&ssne=Manila&ssne_untouched=Manila&lang=en-us&src=searchresults&dest_id=5634&dest_type=region&ac_position=0&ac_click_type=b&ac_langcode=en&ac_suggestion_list_length=5&search_selected=true&search_pageview_id=a66d845a2420035e&ac_meta=GhBhNjZkODQ1YTI0MjAwMzVlIAAoATICZW46AkJvQABKAFAA&checkin=2024-04-04&checkout=2024-04-06&group_adults=2&no_rooms=1&group_children=0&nflt=price%3DPHP-min-4900-1&offset=125\n",
      "Scraping data for Page 7: https://www.booking.com/searchresults.html?label=gen173nr-1FCAEoggI46AdIM1gEaLQBiAEBmAExuAEXyAEM2AEB6AEB-AECiAIBqAIDuAKp-JWtBsACAdICJDUzZjQ4MjMxLTA5Y2UtNDYzOS04NTA4LWMyMzc5NDExNWM3MNgCBeACAQ&aid=304142&ss=Boracay+Island%2C+Philippines%2C+Asia&ssne=Manila&ssne_untouched=Manila&lang=en-us&src=searchresults&dest_id=5634&dest_type=region&ac_position=0&ac_click_type=b&ac_langcode=en&ac_suggestion_list_length=5&search_selected=true&search_pageview_id=a66d845a2420035e&ac_meta=GhBhNjZkODQ1YTI0MjAwMzVlIAAoATICZW46AkJvQABKAFAA&checkin=2024-04-04&checkout=2024-04-06&group_adults=2&no_rooms=1&group_children=0&nflt=price%3DPHP-min-4900-1&offset=150\n",
      "Scraping data for Page 8: https://www.booking.com/searchresults.html?label=gen173nr-1FCAEoggI46AdIM1gEaLQBiAEBmAExuAEXyAEM2AEB6AEB-AECiAIBqAIDuAKp-JWtBsACAdICJDUzZjQ4MjMxLTA5Y2UtNDYzOS04NTA4LWMyMzc5NDExNWM3MNgCBeACAQ&aid=304142&ss=Boracay+Island%2C+Philippines%2C+Asia&ssne=Manila&ssne_untouched=Manila&lang=en-us&src=searchresults&dest_id=5634&dest_type=region&ac_position=0&ac_click_type=b&ac_langcode=en&ac_suggestion_list_length=5&search_selected=true&search_pageview_id=a66d845a2420035e&ac_meta=GhBhNjZkODQ1YTI0MjAwMzVlIAAoATICZW46AkJvQABKAFAA&checkin=2024-04-04&checkout=2024-04-06&group_adults=2&no_rooms=1&group_children=0&nflt=price%3DPHP-min-4900-1&offset=175\n"
     ]
    }
   ],
   "source": [
    "for page_number in range(8):\n",
    "    page_url = f\"{base_url}{count}\"\n",
    "    print(f\"Scraping data for Page {page_number + 1}: {page_url}\")\n",
    "\n",
    "    response = requests.get(page_url)\n",
    "    html = response.text\n",
    "    soup = BeautifulSoup(html, 'html.parser')\n",
    "\n",
    "    # Find all the div elements with class c1edfbabcb\n",
    "    containers = soup.find_all('div', class_='c1edfbabcb')\n",
    "\n",
    "    # Loop through each div element and extract information\n",
    "    for container in containers:\n",
    "        # Extract hotel name\n",
    "        hotel_name = container.find('div', {'data-testid': 'title', 'class': 'f6431b446c a15b38c233'}).text.strip()\n",
    "        hotel.append(hotel_name)\n",
    "\n",
    "        # Extract address\n",
    "        address_location = container.find('span', {'data-testid': 'address', 'class': 'aee5343fdb def9bc142a'}).text.strip()\n",
    "        address.append(address_location)\n",
    "\n",
    "        # Extract review_score\n",
    "        review_rating = container.find('div', {'class': 'a3b8729ab1 d86cee9b25'}).text.strip()\n",
    "        review_score.append(review_rating)\n",
    "\n",
    "        # Extract reviews\n",
    "        total_reviews = container.find('div', {'class': 'abf093bdfe f45d8e4c32 d935416c47'}).text.strip()\n",
    "        reviews.append(total_reviews)\n",
    "\n",
    "        # Extract price\n",
    "        price_amount = container.find('div', {'class': 'ac4a7896c7'}).text.strip()\n",
    "        numeric_price = re.sub(r'[^\\d,]', '', price_amount)\n",
    "        price.append(numeric_price)\n",
    "\n",
    "    # Increment count by 25 for the next page\n",
    "    count += 25"
   ]
  },
  {
   "cell_type": "code",
   "execution_count": 35,
   "metadata": {},
   "outputs": [],
   "source": [
    "#page_title = soup.title.text.strip().replace('\\n', ' ')\n",
    "#page_title"
   ]
  },
  {
   "cell_type": "code",
   "execution_count": 26,
   "metadata": {},
   "outputs": [],
   "source": [
    "# Find all the div elements with class c1edfbabcb\n",
    "# containers = soup.find_all('div', class_='c1edfbabcb')"
   ]
  },
  {
   "cell_type": "code",
   "execution_count": 46,
   "metadata": {},
   "outputs": [],
   "source": [
    "# Create a DataFrame from the collected data\n",
    "boracay_hotels = pd.DataFrame({\n",
    "    'Hotel Name': hotel,\n",
    "    'Address': address,\n",
    "    'Reviews': reviews,\n",
    "    'Overall Review Score': review_score,\n",
    "    'Price': price\n",
    "})"
   ]
  },
  {
   "cell_type": "code",
   "execution_count": 47,
   "metadata": {},
   "outputs": [
    {
     "data": {
      "text/html": [
       "<div>\n",
       "<style scoped>\n",
       "    .dataframe tbody tr th:only-of-type {\n",
       "        vertical-align: middle;\n",
       "    }\n",
       "\n",
       "    .dataframe tbody tr th {\n",
       "        vertical-align: top;\n",
       "    }\n",
       "\n",
       "    .dataframe thead th {\n",
       "        text-align: right;\n",
       "    }\n",
       "</style>\n",
       "<table border=\"1\" class=\"dataframe\">\n",
       "  <thead>\n",
       "    <tr style=\"text-align: right;\">\n",
       "      <th></th>\n",
       "      <th>Hotel Name</th>\n",
       "      <th>Address</th>\n",
       "      <th>Reviews</th>\n",
       "      <th>Overall Review Score</th>\n",
       "      <th>Price</th>\n",
       "    </tr>\n",
       "  </thead>\n",
       "  <tbody>\n",
       "    <tr>\n",
       "      <th>0</th>\n",
       "      <td>Fairways and Bluewater Boracay</td>\n",
       "      <td>Yapak, Boracay</td>\n",
       "      <td>3,614 reviews</td>\n",
       "      <td>8.4</td>\n",
       "      <td></td>\n",
       "    </tr>\n",
       "    <tr>\n",
       "      <th>1</th>\n",
       "      <td>7Stones Boracay</td>\n",
       "      <td>Bulabog, Boracay</td>\n",
       "      <td>944 reviews</td>\n",
       "      <td>8.9</td>\n",
       "      <td></td>\n",
       "    </tr>\n",
       "    <tr>\n",
       "      <th>2</th>\n",
       "      <td>The Piccolo Hotel of Boracay</td>\n",
       "      <td>Station 1, Boracay</td>\n",
       "      <td>1,910 reviews</td>\n",
       "      <td>8.3</td>\n",
       "      <td></td>\n",
       "    </tr>\n",
       "    <tr>\n",
       "      <th>3</th>\n",
       "      <td>Microtel by Wyndham Boracay</td>\n",
       "      <td>Yapak, Boracay</td>\n",
       "      <td>389 reviews</td>\n",
       "      <td>8.5</td>\n",
       "      <td></td>\n",
       "    </tr>\n",
       "    <tr>\n",
       "      <th>4</th>\n",
       "      <td>Paradise Garden Hotel and Convention Boracay P...</td>\n",
       "      <td>Station 3, Boracay</td>\n",
       "      <td>643 reviews</td>\n",
       "      <td>7.9</td>\n",
       "      <td></td>\n",
       "    </tr>\n",
       "    <tr>\n",
       "      <th>...</th>\n",
       "      <td>...</td>\n",
       "      <td>...</td>\n",
       "      <td>...</td>\n",
       "      <td>...</td>\n",
       "      <td>...</td>\n",
       "    </tr>\n",
       "    <tr>\n",
       "      <th>195</th>\n",
       "      <td>IL Mare Sakura Resort Boracay</td>\n",
       "      <td>Station 1, Boracay</td>\n",
       "      <td>415 reviews</td>\n",
       "      <td>9.1</td>\n",
       "      <td></td>\n",
       "    </tr>\n",
       "    <tr>\n",
       "      <th>196</th>\n",
       "      <td>Azalea Hotels &amp; Residences Boracay</td>\n",
       "      <td>Station 2, Boracay</td>\n",
       "      <td>41 reviews</td>\n",
       "      <td>7.7</td>\n",
       "      <td></td>\n",
       "    </tr>\n",
       "    <tr>\n",
       "      <th>197</th>\n",
       "      <td>Happiness Hostel Boracay</td>\n",
       "      <td>Bulabog, Boracay</td>\n",
       "      <td>76 reviews</td>\n",
       "      <td>9.5</td>\n",
       "      <td></td>\n",
       "    </tr>\n",
       "    <tr>\n",
       "      <th>198</th>\n",
       "      <td>Henann Garden Resort</td>\n",
       "      <td>Station 2, Boracay</td>\n",
       "      <td>630 reviews</td>\n",
       "      <td>8.6</td>\n",
       "      <td></td>\n",
       "    </tr>\n",
       "    <tr>\n",
       "      <th>199</th>\n",
       "      <td>Aloha Boracay Hotel</td>\n",
       "      <td>Station 2, Boracay</td>\n",
       "      <td>774 reviews</td>\n",
       "      <td>8.0</td>\n",
       "      <td></td>\n",
       "    </tr>\n",
       "  </tbody>\n",
       "</table>\n",
       "<p>200 rows × 5 columns</p>\n",
       "</div>"
      ],
      "text/plain": [
       "                                            Hotel Name             Address  \\\n",
       "0                       Fairways and Bluewater Boracay      Yapak, Boracay   \n",
       "1                                      7Stones Boracay    Bulabog, Boracay   \n",
       "2                         The Piccolo Hotel of Boracay  Station 1, Boracay   \n",
       "3                          Microtel by Wyndham Boracay      Yapak, Boracay   \n",
       "4    Paradise Garden Hotel and Convention Boracay P...  Station 3, Boracay   \n",
       "..                                                 ...                 ...   \n",
       "195                      IL Mare Sakura Resort Boracay  Station 1, Boracay   \n",
       "196                 Azalea Hotels & Residences Boracay  Station 2, Boracay   \n",
       "197                           Happiness Hostel Boracay    Bulabog, Boracay   \n",
       "198                               Henann Garden Resort  Station 2, Boracay   \n",
       "199                                Aloha Boracay Hotel  Station 2, Boracay   \n",
       "\n",
       "           Reviews Overall Review Score Price  \n",
       "0    3,614 reviews                  8.4        \n",
       "1      944 reviews                  8.9        \n",
       "2    1,910 reviews                  8.3        \n",
       "3      389 reviews                  8.5        \n",
       "4      643 reviews                  7.9        \n",
       "..             ...                  ...   ...  \n",
       "195    415 reviews                  9.1        \n",
       "196     41 reviews                  7.7        \n",
       "197     76 reviews                  9.5        \n",
       "198    630 reviews                  8.6        \n",
       "199    774 reviews                  8.0        \n",
       "\n",
       "[200 rows x 5 columns]"
      ]
     },
     "execution_count": 47,
     "metadata": {},
     "output_type": "execute_result"
    }
   ],
   "source": [
    "# Display the DataFrame\n",
    "boracay_hotels"
   ]
  },
  {
   "cell_type": "code",
   "execution_count": 38,
   "metadata": {},
   "outputs": [
    {
     "name": "stdout",
     "output_type": "stream",
     "text": [
      "<class 'pandas.core.frame.DataFrame'>\n",
      "RangeIndex: 200 entries, 0 to 199\n",
      "Data columns (total 5 columns):\n",
      " #   Column                Non-Null Count  Dtype \n",
      "---  ------                --------------  ----- \n",
      " 0   Hotel Name            200 non-null    object\n",
      " 1   Address               200 non-null    object\n",
      " 2   Reviews               200 non-null    object\n",
      " 3   Overall Review Score  200 non-null    object\n",
      " 4   Price                 200 non-null    object\n",
      "dtypes: object(5)\n",
      "memory usage: 7.9+ KB\n"
     ]
    }
   ],
   "source": [
    "boracay_hotels.info()"
   ]
  },
  {
   "cell_type": "code",
   "execution_count": null,
   "metadata": {},
   "outputs": [],
   "source": [
    "## Scarping Pricing will be on a seperate project. "
   ]
  }
 ],
 "metadata": {
  "kernelspec": {
   "display_name": "base",
   "language": "python",
   "name": "python3"
  },
  "language_info": {
   "codemirror_mode": {
    "name": "ipython",
    "version": 3
   },
   "file_extension": ".py",
   "mimetype": "text/x-python",
   "name": "python",
   "nbconvert_exporter": "python",
   "pygments_lexer": "ipython3",
   "version": "3.11.4"
  }
 },
 "nbformat": 4,
 "nbformat_minor": 2
}
