{
  "nbformat": 4,
  "nbformat_minor": 0,
  "metadata": {
    "colab": {
      "provenance": []
    },
    "kernelspec": {
      "name": "python3",
      "display_name": "Python 3"
    },
    "language_info": {
      "name": "python"
    }
  },
  "cells": [
    {
      "cell_type": "markdown",
      "source": [
        "# Exploratory Data Analysis"
      ],
      "metadata": {
        "id": "UIRUyQAppXyA"
      }
    },
    {
      "cell_type": "markdown",
      "source": [
        "## Import the libraries and Load the dataset"
      ],
      "metadata": {
        "id": "t9DeXi65uYH7"
      }
    },
    {
      "cell_type": "code",
      "execution_count": 25,
      "metadata": {
        "id": "zsLXcNa46bJB"
      },
      "outputs": [],
      "source": [
        "import pandas as pd\n",
        "import matplotlib.pyplot as plt\n",
        "import seaborn as sns"
      ]
    },
    {
      "cell_type": "code",
      "source": [
        "#Load the dataset\n",
        "df = pd.read_csv('https://raw.githubusercontent.com/acamillemartin/working_datasets/main/fiveletterwords.csv')"
      ],
      "metadata": {
        "id": "9q9-0zoa6gpo"
      },
      "execution_count": 2,
      "outputs": []
    },
    {
      "cell_type": "markdown",
      "source": [
        "## Exploring the structure of the dataset:"
      ],
      "metadata": {
        "id": "OI-ZE2KRuQlT"
      }
    },
    {
      "cell_type": "code",
      "source": [
        "# Check DataFrame shape\n",
        "print(df.shape)"
      ],
      "metadata": {
        "colab": {
          "base_uri": "https://localhost:8080/"
        },
        "id": "2hwe6LHkvzax",
        "outputId": "4d08b7f5-630f-46b0-aa38-4c9ed6102011"
      },
      "execution_count": 32,
      "outputs": [
        {
          "output_type": "stream",
          "name": "stdout",
          "text": [
            "(2499, 5)\n"
          ]
        }
      ]
    },
    {
      "cell_type": "code",
      "source": [
        "# Check data types\n",
        "print(df.dtypes)"
      ],
      "metadata": {
        "colab": {
          "base_uri": "https://localhost:8080/"
        },
        "id": "DxSYu438vuRQ",
        "outputId": "74557e92-9cd3-4780-ebde-e175001f01bd"
      },
      "execution_count": 30,
      "outputs": [
        {
          "output_type": "stream",
          "name": "stdout",
          "text": [
            "letter_1    object\n",
            "letter_2    object\n",
            "letter_3    object\n",
            "letter_4    object\n",
            "letter_5    object\n",
            "dtype: object\n"
          ]
        }
      ]
    },
    {
      "cell_type": "code",
      "source": [
        "# Check for missing values\n",
        "print(df.isnull().sum())"
      ],
      "metadata": {
        "colab": {
          "base_uri": "https://localhost:8080/"
        },
        "id": "sqGFPSv7vzcU",
        "outputId": "06d002a2-9f15-4ed7-d797-c84a5933e8ec"
      },
      "execution_count": 31,
      "outputs": [
        {
          "output_type": "stream",
          "name": "stdout",
          "text": [
            "letter_1    0\n",
            "letter_2    0\n",
            "letter_3    0\n",
            "letter_4    0\n",
            "letter_5    0\n",
            "dtype: int64\n"
          ]
        }
      ]
    },
    {
      "cell_type": "code",
      "source": [
        "#Check the sample dataset\n",
        "print(df.head())"
      ],
      "metadata": {
        "colab": {
          "base_uri": "https://localhost:8080/"
        },
        "id": "qSf-G-n77O25",
        "outputId": "d57a9f6a-d471-45b6-f0c1-dfe64e97e939"
      },
      "execution_count": 3,
      "outputs": [
        {
          "output_type": "stream",
          "name": "stdout",
          "text": [
            "  letter_1 letter_2 letter_3 letter_4 letter_5\n",
            "0        a        b        a        c        k\n",
            "1        a        b        a        s        e\n",
            "2        a        b        a        t        e\n",
            "3        a        b        a        y        a\n",
            "4        a        b        b        e        y\n"
          ]
        }
      ]
    },
    {
      "cell_type": "code",
      "source": [
        "df.describe()"
      ],
      "metadata": {
        "colab": {
          "base_uri": "https://localhost:8080/",
          "height": 175
        },
        "id": "WKajx_qk7ZMC",
        "outputId": "773f023d-af30-4eee-8ae9-898056575069"
      },
      "execution_count": 4,
      "outputs": [
        {
          "output_type": "execute_result",
          "data": {
            "text/plain": [
              "       letter_1 letter_2 letter_3 letter_4 letter_5\n",
              "count      2499     2499     2499     2499     2499\n",
              "unique       25       26       25       26       23\n",
              "top           c        o        a        e        s\n",
              "freq        410      385      298      510      729"
            ],
            "text/html": [
              "\n",
              "  <div id=\"df-a787984b-86bb-46fc-aff3-a42b4c5514ec\" class=\"colab-df-container\">\n",
              "    <div>\n",
              "<style scoped>\n",
              "    .dataframe tbody tr th:only-of-type {\n",
              "        vertical-align: middle;\n",
              "    }\n",
              "\n",
              "    .dataframe tbody tr th {\n",
              "        vertical-align: top;\n",
              "    }\n",
              "\n",
              "    .dataframe thead th {\n",
              "        text-align: right;\n",
              "    }\n",
              "</style>\n",
              "<table border=\"1\" class=\"dataframe\">\n",
              "  <thead>\n",
              "    <tr style=\"text-align: right;\">\n",
              "      <th></th>\n",
              "      <th>letter_1</th>\n",
              "      <th>letter_2</th>\n",
              "      <th>letter_3</th>\n",
              "      <th>letter_4</th>\n",
              "      <th>letter_5</th>\n",
              "    </tr>\n",
              "  </thead>\n",
              "  <tbody>\n",
              "    <tr>\n",
              "      <th>count</th>\n",
              "      <td>2499</td>\n",
              "      <td>2499</td>\n",
              "      <td>2499</td>\n",
              "      <td>2499</td>\n",
              "      <td>2499</td>\n",
              "    </tr>\n",
              "    <tr>\n",
              "      <th>unique</th>\n",
              "      <td>25</td>\n",
              "      <td>26</td>\n",
              "      <td>25</td>\n",
              "      <td>26</td>\n",
              "      <td>23</td>\n",
              "    </tr>\n",
              "    <tr>\n",
              "      <th>top</th>\n",
              "      <td>c</td>\n",
              "      <td>o</td>\n",
              "      <td>a</td>\n",
              "      <td>e</td>\n",
              "      <td>s</td>\n",
              "    </tr>\n",
              "    <tr>\n",
              "      <th>freq</th>\n",
              "      <td>410</td>\n",
              "      <td>385</td>\n",
              "      <td>298</td>\n",
              "      <td>510</td>\n",
              "      <td>729</td>\n",
              "    </tr>\n",
              "  </tbody>\n",
              "</table>\n",
              "</div>\n",
              "    <div class=\"colab-df-buttons\">\n",
              "\n",
              "  <div class=\"colab-df-container\">\n",
              "    <button class=\"colab-df-convert\" onclick=\"convertToInteractive('df-a787984b-86bb-46fc-aff3-a42b4c5514ec')\"\n",
              "            title=\"Convert this dataframe to an interactive table.\"\n",
              "            style=\"display:none;\">\n",
              "\n",
              "  <svg xmlns=\"http://www.w3.org/2000/svg\" height=\"24px\" viewBox=\"0 -960 960 960\">\n",
              "    <path d=\"M120-120v-720h720v720H120Zm60-500h600v-160H180v160Zm220 220h160v-160H400v160Zm0 220h160v-160H400v160ZM180-400h160v-160H180v160Zm440 0h160v-160H620v160ZM180-180h160v-160H180v160Zm440 0h160v-160H620v160Z\"/>\n",
              "  </svg>\n",
              "    </button>\n",
              "\n",
              "  <style>\n",
              "    .colab-df-container {\n",
              "      display:flex;\n",
              "      gap: 12px;\n",
              "    }\n",
              "\n",
              "    .colab-df-convert {\n",
              "      background-color: #E8F0FE;\n",
              "      border: none;\n",
              "      border-radius: 50%;\n",
              "      cursor: pointer;\n",
              "      display: none;\n",
              "      fill: #1967D2;\n",
              "      height: 32px;\n",
              "      padding: 0 0 0 0;\n",
              "      width: 32px;\n",
              "    }\n",
              "\n",
              "    .colab-df-convert:hover {\n",
              "      background-color: #E2EBFA;\n",
              "      box-shadow: 0px 1px 2px rgba(60, 64, 67, 0.3), 0px 1px 3px 1px rgba(60, 64, 67, 0.15);\n",
              "      fill: #174EA6;\n",
              "    }\n",
              "\n",
              "    .colab-df-buttons div {\n",
              "      margin-bottom: 4px;\n",
              "    }\n",
              "\n",
              "    [theme=dark] .colab-df-convert {\n",
              "      background-color: #3B4455;\n",
              "      fill: #D2E3FC;\n",
              "    }\n",
              "\n",
              "    [theme=dark] .colab-df-convert:hover {\n",
              "      background-color: #434B5C;\n",
              "      box-shadow: 0px 1px 3px 1px rgba(0, 0, 0, 0.15);\n",
              "      filter: drop-shadow(0px 1px 2px rgba(0, 0, 0, 0.3));\n",
              "      fill: #FFFFFF;\n",
              "    }\n",
              "  </style>\n",
              "\n",
              "    <script>\n",
              "      const buttonEl =\n",
              "        document.querySelector('#df-a787984b-86bb-46fc-aff3-a42b4c5514ec button.colab-df-convert');\n",
              "      buttonEl.style.display =\n",
              "        google.colab.kernel.accessAllowed ? 'block' : 'none';\n",
              "\n",
              "      async function convertToInteractive(key) {\n",
              "        const element = document.querySelector('#df-a787984b-86bb-46fc-aff3-a42b4c5514ec');\n",
              "        const dataTable =\n",
              "          await google.colab.kernel.invokeFunction('convertToInteractive',\n",
              "                                                    [key], {});\n",
              "        if (!dataTable) return;\n",
              "\n",
              "        const docLinkHtml = 'Like what you see? Visit the ' +\n",
              "          '<a target=\"_blank\" href=https://colab.research.google.com/notebooks/data_table.ipynb>data table notebook</a>'\n",
              "          + ' to learn more about interactive tables.';\n",
              "        element.innerHTML = '';\n",
              "        dataTable['output_type'] = 'display_data';\n",
              "        await google.colab.output.renderOutput(dataTable, element);\n",
              "        const docLink = document.createElement('div');\n",
              "        docLink.innerHTML = docLinkHtml;\n",
              "        element.appendChild(docLink);\n",
              "      }\n",
              "    </script>\n",
              "  </div>\n",
              "\n",
              "\n",
              "<div id=\"df-fd115444-29e4-463c-9712-ef8e25806020\">\n",
              "  <button class=\"colab-df-quickchart\" onclick=\"quickchart('df-fd115444-29e4-463c-9712-ef8e25806020')\"\n",
              "            title=\"Suggest charts\"\n",
              "            style=\"display:none;\">\n",
              "\n",
              "<svg xmlns=\"http://www.w3.org/2000/svg\" height=\"24px\"viewBox=\"0 0 24 24\"\n",
              "     width=\"24px\">\n",
              "    <g>\n",
              "        <path d=\"M19 3H5c-1.1 0-2 .9-2 2v14c0 1.1.9 2 2 2h14c1.1 0 2-.9 2-2V5c0-1.1-.9-2-2-2zM9 17H7v-7h2v7zm4 0h-2V7h2v10zm4 0h-2v-4h2v4z\"/>\n",
              "    </g>\n",
              "</svg>\n",
              "  </button>\n",
              "\n",
              "<style>\n",
              "  .colab-df-quickchart {\n",
              "      --bg-color: #E8F0FE;\n",
              "      --fill-color: #1967D2;\n",
              "      --hover-bg-color: #E2EBFA;\n",
              "      --hover-fill-color: #174EA6;\n",
              "      --disabled-fill-color: #AAA;\n",
              "      --disabled-bg-color: #DDD;\n",
              "  }\n",
              "\n",
              "  [theme=dark] .colab-df-quickchart {\n",
              "      --bg-color: #3B4455;\n",
              "      --fill-color: #D2E3FC;\n",
              "      --hover-bg-color: #434B5C;\n",
              "      --hover-fill-color: #FFFFFF;\n",
              "      --disabled-bg-color: #3B4455;\n",
              "      --disabled-fill-color: #666;\n",
              "  }\n",
              "\n",
              "  .colab-df-quickchart {\n",
              "    background-color: var(--bg-color);\n",
              "    border: none;\n",
              "    border-radius: 50%;\n",
              "    cursor: pointer;\n",
              "    display: none;\n",
              "    fill: var(--fill-color);\n",
              "    height: 32px;\n",
              "    padding: 0;\n",
              "    width: 32px;\n",
              "  }\n",
              "\n",
              "  .colab-df-quickchart:hover {\n",
              "    background-color: var(--hover-bg-color);\n",
              "    box-shadow: 0 1px 2px rgba(60, 64, 67, 0.3), 0 1px 3px 1px rgba(60, 64, 67, 0.15);\n",
              "    fill: var(--button-hover-fill-color);\n",
              "  }\n",
              "\n",
              "  .colab-df-quickchart-complete:disabled,\n",
              "  .colab-df-quickchart-complete:disabled:hover {\n",
              "    background-color: var(--disabled-bg-color);\n",
              "    fill: var(--disabled-fill-color);\n",
              "    box-shadow: none;\n",
              "  }\n",
              "\n",
              "  .colab-df-spinner {\n",
              "    border: 2px solid var(--fill-color);\n",
              "    border-color: transparent;\n",
              "    border-bottom-color: var(--fill-color);\n",
              "    animation:\n",
              "      spin 1s steps(1) infinite;\n",
              "  }\n",
              "\n",
              "  @keyframes spin {\n",
              "    0% {\n",
              "      border-color: transparent;\n",
              "      border-bottom-color: var(--fill-color);\n",
              "      border-left-color: var(--fill-color);\n",
              "    }\n",
              "    20% {\n",
              "      border-color: transparent;\n",
              "      border-left-color: var(--fill-color);\n",
              "      border-top-color: var(--fill-color);\n",
              "    }\n",
              "    30% {\n",
              "      border-color: transparent;\n",
              "      border-left-color: var(--fill-color);\n",
              "      border-top-color: var(--fill-color);\n",
              "      border-right-color: var(--fill-color);\n",
              "    }\n",
              "    40% {\n",
              "      border-color: transparent;\n",
              "      border-right-color: var(--fill-color);\n",
              "      border-top-color: var(--fill-color);\n",
              "    }\n",
              "    60% {\n",
              "      border-color: transparent;\n",
              "      border-right-color: var(--fill-color);\n",
              "    }\n",
              "    80% {\n",
              "      border-color: transparent;\n",
              "      border-right-color: var(--fill-color);\n",
              "      border-bottom-color: var(--fill-color);\n",
              "    }\n",
              "    90% {\n",
              "      border-color: transparent;\n",
              "      border-bottom-color: var(--fill-color);\n",
              "    }\n",
              "  }\n",
              "</style>\n",
              "\n",
              "  <script>\n",
              "    async function quickchart(key) {\n",
              "      const quickchartButtonEl =\n",
              "        document.querySelector('#' + key + ' button');\n",
              "      quickchartButtonEl.disabled = true;  // To prevent multiple clicks.\n",
              "      quickchartButtonEl.classList.add('colab-df-spinner');\n",
              "      try {\n",
              "        const charts = await google.colab.kernel.invokeFunction(\n",
              "            'suggestCharts', [key], {});\n",
              "      } catch (error) {\n",
              "        console.error('Error during call to suggestCharts:', error);\n",
              "      }\n",
              "      quickchartButtonEl.classList.remove('colab-df-spinner');\n",
              "      quickchartButtonEl.classList.add('colab-df-quickchart-complete');\n",
              "    }\n",
              "    (() => {\n",
              "      let quickchartButtonEl =\n",
              "        document.querySelector('#df-fd115444-29e4-463c-9712-ef8e25806020 button');\n",
              "      quickchartButtonEl.style.display =\n",
              "        google.colab.kernel.accessAllowed ? 'block' : 'none';\n",
              "    })();\n",
              "  </script>\n",
              "</div>\n",
              "    </div>\n",
              "  </div>\n"
            ]
          },
          "metadata": {},
          "execution_count": 4
        }
      ]
    },
    {
      "cell_type": "code",
      "source": [
        "df.info()"
      ],
      "metadata": {
        "colab": {
          "base_uri": "https://localhost:8080/"
        },
        "id": "Lan-LO-_7fvM",
        "outputId": "32b720eb-662d-4da7-9a6d-c3f511923b92"
      },
      "execution_count": 5,
      "outputs": [
        {
          "output_type": "stream",
          "name": "stdout",
          "text": [
            "<class 'pandas.core.frame.DataFrame'>\n",
            "RangeIndex: 2499 entries, 0 to 2498\n",
            "Data columns (total 5 columns):\n",
            " #   Column    Non-Null Count  Dtype \n",
            "---  ------    --------------  ----- \n",
            " 0   letter_1  2499 non-null   object\n",
            " 1   letter_2  2499 non-null   object\n",
            " 2   letter_3  2499 non-null   object\n",
            " 3   letter_4  2499 non-null   object\n",
            " 4   letter_5  2499 non-null   object\n",
            "dtypes: object(5)\n",
            "memory usage: 97.7+ KB\n"
          ]
        }
      ]
    },
    {
      "cell_type": "markdown",
      "source": [
        "### Q1: What is the probability that the first letter is a vowel, given no other information?"
      ],
      "metadata": {
        "id": "RFgcEt5BqIhM"
      }
    },
    {
      "cell_type": "code",
      "source": [
        "# Calculate the total number of words in the dataset\n",
        "total_words = len(df)\n",
        "\n",
        "# Filter the DataFrame to include only words where the first letter is a vowel ('a', 'e', 'i', 'o', 'u')\n",
        "vowel_starts = df[df['letter_1'].isin(['a', 'e', 'i', 'o', 'u'])]\n",
        "\n",
        "# Calculate the probability that the first letter is a vowel by dividing the count of words where the first letter is a vowel by the total number of words\n",
        "probability_first_vowel = len(vowel_starts) / total_words\n",
        "\n",
        "# Print the probability\n",
        "print('Probability that the first letter is a vowel:', probability_first_vowel)"
      ],
      "metadata": {
        "colab": {
          "base_uri": "https://localhost:8080/"
        },
        "id": "2QVwxonw741Y",
        "outputId": "f8bde4bd-9460-43c4-d880-2ff4634f610b"
      },
      "execution_count": 12,
      "outputs": [
        {
          "output_type": "stream",
          "name": "stdout",
          "text": [
            "Probability that the first letter is a vowel: 0.16606642657062826\n"
          ]
        }
      ]
    },
    {
      "cell_type": "code",
      "source": [
        "# Calculate the total number of words in the dataset\n",
        "total_words = len(df)\n",
        "\n",
        "# Calculate the total number of words where the first letter is a vowel\n",
        "total_vowels = sum(df['letter_1'].isin(['a', 'e', 'i', 'o', 'u']))\n",
        "\n",
        "# Calculate the probability that the first letter is a vowel given no other information\n",
        "probability_first_vowel = total_vowels / total_words\n",
        "\n",
        "# Print the probability\n",
        "print('Probability that the first letter is a vowel, given no other information:', probability_first_vowel)"
      ],
      "metadata": {
        "colab": {
          "base_uri": "https://localhost:8080/"
        },
        "id": "DF_IJWFGqhSu",
        "outputId": "b4bd7e4b-ad0d-4075-e296-b5595cdfe391"
      },
      "execution_count": 11,
      "outputs": [
        {
          "output_type": "stream",
          "name": "stdout",
          "text": [
            "Probability that the first letter is a vowel, given no other information: 0.16606642657062826\n"
          ]
        }
      ]
    },
    {
      "cell_type": "code",
      "source": [
        "# Define labels and values for the bar plot\n",
        "labels = ['Total Number of Words', 'Probability of First Letter Being a Vowel']\n",
        "values = [total_words, probability_first_vowel]\n",
        "\n",
        "# Create a bar plot\n",
        "plt.bar(labels, values, color=['green', 'blue'])\n",
        "\n",
        "# Add title and axis labels\n",
        "plt.title('Total Number of Words and Probability of First Letter Being a Vowel')\n",
        "plt.ylabel('Count or Probability')\n",
        "\n",
        "# Set y-axis limits to ensure correct visualization of probability (between 0 and 1)\n",
        "plt.ylim(0, 1)\n",
        "\n",
        "# Show the plot\n",
        "plt.show()"
      ],
      "metadata": {
        "colab": {
          "base_uri": "https://localhost:8080/",
          "height": 452
        },
        "id": "fAyXNuU_A7zx",
        "outputId": "45ca5c44-fd1f-48b0-d700-68f22be76c37"
      },
      "execution_count": 14,
      "outputs": [
        {
          "output_type": "display_data",
          "data": {
            "text/plain": [
              "<Figure size 640x480 with 1 Axes>"
            ],
            "image/png": "[encoded data removed]"
          },
          "metadata": {}
        }
      ]
    },
    {
      "cell_type": "markdown",
      "source": [
        "### Q2: What is the probability that the first and last letter will be the same?"
      ],
      "metadata": {
        "id": "PZK5N7iiqsgH"
      }
    },
    {
      "cell_type": "code",
      "source": [
        "# Filter the dataset to include only five-letter words where the first and last letter are the same\n",
        "first_last_same = []\n",
        "for index, row in df.iterrows():\n",
        "    if row['letter_1'] == row['letter_5']:\n",
        "        first_last_same.append(row)\n",
        "\n",
        "# Convert the list of matching rows to a DataFrame\n",
        "five_letter_words = pd.DataFrame(first_last_same)\n",
        "\n",
        "# Calculate the probability\n",
        "probability_first_last_same = len(five_letter_words) / len(df)a\n",
        "\n",
        "print('Probability that the first and last letter are the same:', probability_first_last_same)"
      ],
      "metadata": {
        "colab": {
          "base_uri": "https://localhost:8080/"
        },
        "id": "oi4IvXTmq9vO",
        "outputId": "7454a788-9671-4a57-99d4-837fefef10a6"
      },
      "execution_count": 15,
      "outputs": [
        {
          "output_type": "stream",
          "name": "stdout",
          "text": [
            "Probability that the first and last letter are the same: 0.05002000800320128\n"
          ]
        }
      ]
    },
    {
      "cell_type": "code",
      "source": [
        "# Filter the DataFrame to include only rows where the first letter is the same as the last letter\n",
        "same_first_last = df[df['letter_1'] == df['letter_5']]\n",
        "\n",
        "# Calculate the probability that the first and last letter are the same by dividing the count of matching rows by the total number of words\n",
        "probability_same_first_last = len(same_first_last) / total_words\n",
        "\n",
        "# Print the probability\n",
        "print('Probability that the first and last letter are the same:', probability_same_first_last)"
      ],
      "metadata": {
        "colab": {
          "base_uri": "https://localhost:8080/"
        },
        "id": "uMSaT82r8BeB",
        "outputId": "7d78728b-e3a1-4121-c7cd-535dec20b5ab"
      },
      "execution_count": 16,
      "outputs": [
        {
          "output_type": "stream",
          "name": "stdout",
          "text": [
            "Probability that the first and last letter are the same: 0.05002000800320128\n"
          ]
        }
      ]
    },
    {
      "cell_type": "markdown",
      "source": [
        "### Q3: Assume you’re in the middle of the game, and all you have so far is that A in the 2nd position is YELLOW. What position is A most likely to be in, given no other information?"
      ],
      "metadata": {
        "id": "FHTAc8bvsB8w"
      }
    },
    {
      "cell_type": "code",
      "source": [
        "# Initialize probabilities for each position\n",
        "probabilities = [1/6] * 6\n",
        "\n",
        "# Given that A in the 2nd position is YELLOW\n",
        "# Update probabilities based on this information\n",
        "probabilities[1] = 1\n",
        "probabilities[0] = 0\n",
        "probabilities[2] = 0\n",
        "probabilities[3:] = [1/5] * 3\n",
        "\n",
        "# Normalize probabilities\n",
        "total_probability = sum(probabilities)\n",
        "normalized_probabilities = [prob / total_probability for prob in probabilities]\n",
        "\n",
        "# Print probabilities\n",
        "for i, prob in enumerate(normalized_probabilities):\n",
        "    print(f\"Probability of A being in position {i+1}: {prob:.4f}\")"
      ],
      "metadata": {
        "colab": {
          "base_uri": "https://localhost:8080/"
        },
        "id": "5id9eD2OsydC",
        "outputId": "ff70b73a-de7a-48c1-fafb-e36fb933e11c"
      },
      "execution_count": 18,
      "outputs": [
        {
          "output_type": "stream",
          "name": "stdout",
          "text": [
            "Probability of A being in position 1: 0.0000\n",
            "Probability of A being in position 2: 0.6250\n",
            "Probability of A being in position 3: 0.0000\n",
            "Probability of A being in position 4: 0.1250\n",
            "Probability of A being in position 5: 0.1250\n",
            "Probability of A being in position 6: 0.1250\n"
          ]
        }
      ]
    },
    {
      "cell_type": "markdown",
      "source": [
        "### Q4: Assume the first letter is a vowel. What is the probability that the second letter is a consonant?"
      ],
      "metadata": {
        "id": "pxqpHo5cs-3B"
      }
    },
    {
      "cell_type": "code",
      "source": [
        "# Calculate the probability that the second letter is a consonant given the first letter is a vowel\n",
        "vowel_second_consonant = vowel_starts[df['letter_2'].apply(lambda x: x not in ['a', 'e', 'i', 'o', 'u'])]\n",
        "probability_second_consonant_given_first_vowel = len(vowel_second_consonant) / len(vowel_starts)\n",
        "print('Probability that the second letter is a consonant given the first letter is a vowel:', probability_second_consonant_given_first_vowel)"
      ],
      "metadata": {
        "id": "xsCOhWsk8OGY",
        "colab": {
          "base_uri": "https://localhost:8080/"
        },
        "outputId": "7aed1e8d-330f-43b5-e49e-c68cb9b5b810"
      },
      "execution_count": 9,
      "outputs": [
        {
          "output_type": "stream",
          "name": "stdout",
          "text": [
            "Probability that the second letter is a consonant given the first letter is a vowel: 0.8819277108433735\n"
          ]
        },
        {
          "output_type": "stream",
          "name": "stderr",
          "text": [
            "<ipython-input-9-4d467e409801>:2: UserWarning: Boolean Series key will be reindexed to match DataFrame index.\n",
            "  vowel_second_consonant = vowel_starts[df['letter_2'].apply(lambda x: x not in ['a', 'e', 'i', 'o', 'u'])]\n"
          ]
        }
      ]
    },
    {
      "cell_type": "code",
      "source": [
        "# Define a function to check if a letter is a consonant\n",
        "def is_consonant(letter):\n",
        "    return letter not in ['a', 'e', 'i', 'o', 'u']\n",
        "\n",
        "# Filter words from df where the first letter is a vowel\n",
        "vowel_starts = df[df['letter_1'].apply(lambda x: x in ['a', 'e', 'i', 'o', 'u'])]\n",
        "\n",
        "# Filter words from vowel_starts where the second letter is a consonant\n",
        "vowel_second_consonant = vowel_starts[df['letter_2'].apply(is_consonant)]\n",
        "\n",
        "# Calculate the probability that the second letter is a consonant given the first letter is a vowel\n",
        "# Probability = Number of words where second letter is a consonant / Total number of words starting with a vowel\n",
        "probability_second_consonant_given_first_vowel = len(vowel_second_consonant) / len(vowel_starts)\n",
        "\n",
        "# Print the calculated probability\n",
        "print('Probability that the second letter is a consonant given the first letter is a vowel:', probability_second_consonant_given_first_vowel)"
      ],
      "metadata": {
        "colab": {
          "base_uri": "https://localhost:8080/"
        },
        "id": "TZqzTiG9o4Z3",
        "outputId": "34ca59a5-a847-41e8-d597-b76c3dab4dc8"
      },
      "execution_count": 20,
      "outputs": [
        {
          "output_type": "stream",
          "name": "stdout",
          "text": [
            "Probability that the second letter is a consonant given the first letter is a vowel: 0.8819277108433735\n"
          ]
        },
        {
          "output_type": "stream",
          "name": "stderr",
          "text": [
            "<ipython-input-20-9de8fe145e27>:9: UserWarning: Boolean Series key will be reindexed to match DataFrame index.\n",
            "  vowel_second_consonant = vowel_starts[df['letter_2'].apply(is_consonant)]\n"
          ]
        }
      ]
    },
    {
      "cell_type": "code",
      "source": [
        "# Data Summary\n",
        "print(\"Data Shape:\", df.shape)\n",
        "print(\"\\nFirst few rows:\")\n",
        "print(df.head())\n",
        "print(\"\\nMissing Values:\")\n",
        "print(df.isnull().sum())"
      ],
      "metadata": {
        "colab": {
          "base_uri": "https://localhost:8080/"
        },
        "id": "iaqUaiJTuguQ",
        "outputId": "58715268-a268-460b-8e7f-a02dabb83f73"
      },
      "execution_count": 23,
      "outputs": [
        {
          "output_type": "stream",
          "name": "stdout",
          "text": [
            "Data Shape: (2499, 5)\n",
            "\n",
            "First few rows:\n",
            "  letter_1 letter_2 letter_3 letter_4 letter_5\n",
            "0        a        b        a        c        k\n",
            "1        a        b        a        s        e\n",
            "2        a        b        a        t        e\n",
            "3        a        b        a        y        a\n",
            "4        a        b        b        e        y\n",
            "\n",
            "Missing Values:\n",
            "letter_1    0\n",
            "letter_2    0\n",
            "letter_3    0\n",
            "letter_4    0\n",
            "letter_5    0\n",
            "dtype: int64\n"
          ]
        }
      ]
    },
    {
      "cell_type": "code",
      "source": [
        "# Distribution of Letters\n",
        "plt.figure(figsize=(10, 6))\n",
        "sns.countplot(data=df.melt(), x='value', order=df.melt()['value'].value_counts().index)\n",
        "plt.title('Distribution of Letters')\n",
        "plt.xlabel('Letters')\n",
        "plt.ylabel('Count')\n",
        "plt.show()"
      ],
      "metadata": {
        "colab": {
          "base_uri": "https://localhost:8080/",
          "height": 564
        },
        "id": "cnEDGDKNulov",
        "outputId": "22db7349-09db-4451-fcc7-1ae00a608460"
      },
      "execution_count": 26,
      "outputs": [
        {
          "output_type": "display_data",
          "data": {
            "text/plain": [
              "<Figure size 1000x600 with 1 Axes>"
            ],
            "image/png": "[encoded data removed]"
          },
          "metadata": {}
        }
      ]
    },
    {
      "cell_type": "code",
      "source": [
        "# Letter Frequency\n",
        "letter_freq = df.melt().groupby('value').size().reset_index(name='frequency')\n",
        "plt.figure(figsize=(10, 6))\n",
        "plt.bar(letter_freq['value'], letter_freq['frequency'])\n",
        "plt.title('Letter Frequency')\n",
        "plt.xlabel('Letters')\n",
        "plt.ylabel('Frequency')\n",
        "plt.show()"
      ],
      "metadata": {
        "colab": {
          "base_uri": "https://localhost:8080/",
          "height": 564
        },
        "id": "ylOiVVvdvHQ-",
        "outputId": "bda6bc62-df09-47da-8ad3-0f772f9bee18"
      },
      "execution_count": 27,
      "outputs": [
        {
          "output_type": "display_data",
          "data": {
            "text/plain": [
              "<Figure size 1000x600 with 1 Axes>"
            ],
            "image/png": "[encoded data removed]"
          },
          "metadata": {}
        }
      ]
    }
  ]
}